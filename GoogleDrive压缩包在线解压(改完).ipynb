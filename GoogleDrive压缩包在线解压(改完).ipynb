{
  "nbformat": 4,
  "nbformat_minor": 0,
  "metadata": {
    "colab": {
      "name": "GoogleDrive压缩包在线解压.ipynb",
      "provenance": [],
      "collapsed_sections": [],
      "include_colab_link": true
    },
    "kernelspec": {
      "name": "python3",
      "display_name": "Python 3"
    }
  },
  "cells": [
    {
      "cell_type": "markdown",
      "metadata": {
        "id": "view-in-github",
        "colab_type": "text"
      },
      "source": [
        "<a href=\"https://colab.research.google.com/github/zhenglix/Google-zyz-colab/blob/master/GoogleDrive%E5%8E%8B%E7%BC%A9%E5%8C%85%E5%9C%A8%E7%BA%BF%E8%A7%A3%E5%8E%8B(%E6%94%B9%E5%AE%8C).ipynb\" target=\"_parent\"><img src=\"https://colab.research.google.com/assets/colab-badge.svg\" alt=\"Open In Colab\"/></a>"
      ]
    },
    {
      "cell_type": "code",
      "metadata": {
        "id": "dNNdazup4OtO",
        "colab_type": "code",
        "cellView": "form",
        "colab": {}
      },
      "source": [
        "#@markdown <h3>← 绑定GoogleDrive</h3>\n",
        "from google.colab import drive\n",
        "drive.mount('/content/drive')"
      ],
      "execution_count": null,
      "outputs": []
    },
    {
      "cell_type": "code",
      "metadata": {
        "id": "nbSleKMe0Z66",
        "colab_type": "code",
        "cellView": "form",
        "colab": {}
      },
      "source": [
        "#@markdown <h2>压缩文件夹</h2>\n",
        "#@markdown <h3>双击空白进入编辑状态</h3>\n",
        "MODE = \"ZIP\"\n",
        "FILENAME = \"csys.zip\" #压缩后的包名\n",
        "PATH_TO_FILE = \"/content/drive/My Drive/csys\" #要压缩的文件夹地址\n",
        "ARCHIVE_PASSWORD = \"\" #设置解压密码\n",
        "compress = 1\n",
        "from pathlib import PurePosixPath\n",
        "from IPython.display import clear_output\n",
        "from google.colab import drive\n",
        "drive.mount('/content/drive')\n",
        "\n",
        "pathList = PATH_TO_FILE.split('|')\n",
        "if MODE == \"ZIP\":\n",
        "    if not FILENAME:\n",
        "      FILENAME = \"/content/NEW_FILE.ZIP\"\n",
        "    if ARCHIVE_PASSWORD:\n",
        "      passADD = f'--password \"{ARCHIVE_PASSWORD}\"'\n",
        "    else:\n",
        "      passADD = ''\n",
        "    for part in pathList:\n",
        "      pathdic = PurePosixPath(part.strip())\n",
        "      parent = pathdic.parent\n",
        "      partName = pathdic.parts[-1]\n",
        "      cmd = f'cd \"{parent}\" && zip {passADD} -{compress} -v -r -u \"{FILENAME}\" \"{partName}\"'\n",
        "      !$cmd\n",
        "clear_output()\n",
        "print(\"\\n----------打包成功----------\\n\")"
      ],
      "execution_count": null,
      "outputs": []
    },
    {
      "cell_type": "markdown",
      "metadata": {
        "id": "zkVMX8ysyiMJ",
        "colab_type": "text"
      },
      "source": [
        "#**-----------------------------------------------------------------**"
      ]
    },
    {
      "cell_type": "code",
      "metadata": {
        "id": "OX6_9OC24jBB",
        "colab_type": "code",
        "cellView": "form",
        "colab": {}
      },
      "source": [
        "#@markdown <h3>解压RAR压缩包(支持批量和有密码)</h3>\n",
        "GD = \"/content/drive/My Drive/\"\n",
        "a = (GD+c)\n",
        "d = (GD+b)\n",
        "c = \"123456.rar\"#@param {type:\"string\"}\n",
        "#@markdown <h4>&nbsp;&nbsp;&nbsp;要解压的压缩包路径(如果是网盘根目录直接输入压缩包文件名批量解压请用*.rar)</h4>\n",
        "b = \"mm/mm\" #@param {type:\"string\"}\n",
        "#@markdown <h4>  &nbsp;&nbsp;&nbsp;解压后的存放路径</h4>\n",
        "cs = \"-p\"#@param {type:\"string\"}\n",
        "#@markdown <h4>  &nbsp;&nbsp;&nbsp;参数:批量解压&nbsp;&nbsp;-r &nbsp;&nbsp;&nbsp;有密码的压缩包&nbsp;&nbsp;-p</h4>\n",
        "!unrar x \"$cs\" \"$a\" \"$d\"\n",
        "MyVariable = None"
      ],
      "execution_count": null,
      "outputs": []
    },
    {
      "cell_type": "code",
      "metadata": {
        "id": "_gI5spoH5tZj",
        "colab_type": "code",
        "cellView": "form",
        "colab": {}
      },
      "source": [
        "#@markdown <h3>解压zip压缩包</h3>\n",
        "GD = \"/content/drive/My Drive/\"\n",
        "a,d = (GD+c),(GD+b)\n",
        "c = \"zip-m.zip\"#@param {type:\"string\"}\n",
        "#@markdown <h4>&nbsp;&nbsp;&nbsp;要解压的压缩包路径(如果是网盘根目录直接输入压缩包文件名)</h4>\n",
        "b = \"mm\" #@param {type:\"string\"}\n",
        "#@markdown <h4>  &nbsp;&nbsp;&nbsp;解压后的存放路径</h4>\n",
        "cs = \"-P123456\"#@param {type:\"string\"}\n",
        "#@markdown <h4>  &nbsp;&nbsp;&nbsp;参数:带密码的压缩包在输入框中输入&nbsp;&nbsp;-P带上解压密码(没有密码时请留空)</h4>\n",
        "!unzip \"$cs\" \"$a\" -d \"$d\"\n",
        "MyVariable = None"
      ],
      "execution_count": null,
      "outputs": []
    },
    {
      "cell_type": "code",
      "metadata": {
        "id": "zUlREX0eQMWu",
        "colab_type": "code",
        "colab": {},
        "cellView": "form"
      },
      "source": [
        "#@markdown <h3>批量解压ZIP压缩包</h3>\n",
        "GD = \"/content/drive/My Drive/\"\n",
        "d = (GD+b)\n",
        "b = \"\" #@param {type:\"string\"}\n",
        "#@markdown <h4>  &nbsp;&nbsp;&nbsp;要批量解压的文件夹路径</h4>\n",
        "%cd \"$d\"\n",
        "!for file in *.zip; do dir=$(basename \"$file\" .zip); mkdir \"$dir\"; cd \"$dir\"; unzip -Paitugg ../\"$file\"; cd ..; done"
      ],
      "execution_count": null,
      "outputs": []
    },
    {
      "cell_type": "markdown",
      "metadata": {
        "id": "rr_xUZ3c1BwV",
        "colab_type": "text"
      },
      "source": [
        "# **解压7z压缩包**\n",
        "点击左侧按钮，运行以下代码解压7z压缩包\n",
        "注意修改路径"
      ]
    },
    {
      "cell_type": "code",
      "metadata": {
        "id": "-7x85unPREPv",
        "colab_type": "code",
        "colab": {}
      },
      "source": [
        "%cd \"/content/drive/Shared drives/uudme/\"\n",
        "!7z x -puud 14.7z"
      ],
      "execution_count": null,
      "outputs": []
    }
  ]
}