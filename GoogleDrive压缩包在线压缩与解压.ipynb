{
  "nbformat": 4,
  "nbformat_minor": 0,
  "metadata": {
    "colab": {
      "name": "GoogleDrive压缩包在线解压.ipynb",
      "provenance": [],
      "collapsed_sections": [],
      "include_colab_link": true
    },
    "kernelspec": {
      "name": "python3",
      "display_name": "Python 3"
    }
  },
  "cells": [
    {
      "cell_type": "markdown",
      "metadata": {
        "id": "view-in-github",
        "colab_type": "text"
      },
      "source": [
        "<a href=\"https://colab.research.google.com/github/zhenglix/Google-zyz-colab/blob/master/GoogleDrive%E5%8E%8B%E7%BC%A9%E5%8C%85%E5%9C%A8%E7%BA%BF%E5%8E%8B%E7%BC%A9%E4%B8%8E%E8%A7%A3%E5%8E%8B.ipynb\" target=\"_parent\"><img src=\"https://colab.research.google.com/assets/colab-badge.svg\" alt=\"Open In Colab\"/></a>"
      ]
    },
    {
      "cell_type": "code",
      "metadata": {
        "id": "dNNdazup4OtO",
        "colab_type": "code",
        "colab": {},
        "cellView": "form"
      },
      "source": [
        "#@markdown <h3>← 绑定GoogleDrive</h3>\n",
        "from google.colab import drive\n",
        "drive.mount('/content/drive')"
      ],
      "execution_count": null,
      "outputs": []
    },
    {
      "cell_type": "code",
      "metadata": {
        "id": "nbSleKMe0Z66",
        "colab_type": "code",
        "colab": {},
        "cellView": "form"
      },
      "source": [
        "#@markdown <h2>压缩文件夹</h2>\n",
        "#@markdown <h3>双击空白进入编辑状态</h3>\n",
        "MODE = \"ZIP\"\n",
        "FILENAME = \"csys.zip\" #压缩后的包名\n",
        "PATH_TO_FILE = \"/content/drive/My Drive/csys\" #要压缩的文件夹地址\n",
        "ARCHIVE_PASSWORD = \"\" #设置解压密码\n",
        "compress = 1\n",
        "from pathlib import PurePosixPath\n",
        "from IPython.display import clear_output\n",
        "from google.colab import drive\n",
        "drive.mount('/content/drive')\n",
        "\n",
        "pathList = PATH_TO_FILE.split('|')\n",
        "if MODE == \"ZIP\":\n",
        "    if not FILENAME:\n",
        "      FILENAME = \"/content/NEW_FILE.ZIP\"\n",
        "    if ARCHIVE_PASSWORD:\n",
        "      passADD = f'--password \"{ARCHIVE_PASSWORD}\"'\n",
        "    else:\n",
        "      passADD = ''\n",
        "    for part in pathList:\n",
        "      pathdic = PurePosixPath(part.strip())\n",
        "      parent = pathdic.parent\n",
        "      partName = pathdic.parts[-1]\n",
        "      cmd = f'cd \"{parent}\" && zip {passADD} -{compress} -v -r -u \"{FILENAME}\" \"{partName}\"'\n",
        "      !$cmd\n",
        "clear_output()\n",
        "print(\"\\n----------打包成功----------\\n\")"
      ],
      "execution_count": null,
      "outputs": []
    },
    {
      "cell_type": "code",
      "metadata": {
        "id": "OX6_9OC24jBB",
        "colab_type": "code",
        "colab": {},
        "cellView": "form"
      },
      "source": [
        "#@markdown <h3>解压RAR压缩包(批量解压请用*.rar)</h3>\n",
        "\n",
        "GD = \"/content/drive/My Drive/\"\n",
        "a,b = (GD+c),(GD+b)\n",
        "c = \"rar.rar\"#@param {type:\"string\"}\n",
        "#@markdown <h4>&nbsp;&nbsp;&nbsp;要解压的压缩包路径(如果是网盘根目录直接输入压缩包文件名)</h4>\n",
        "b = \"jycs\" #@param {type:\"string\"}\n",
        "#@markdown <h4>  &nbsp;&nbsp;&nbsp;解压后的位置路径</h4>\n",
        "cs = \"x\"#@param['x','-r','-Paitugg','x -puud']\n",
        "#@markdown <h4>  &nbsp;&nbsp;&nbsp;参数:默认&nbsp;&nbsp; x&nbsp;&nbsp;批量解压&nbsp;&nbsp;-r &nbsp;&nbsp;&nbsp;解压有密码的压缩包&nbsp;&nbsp; -Paitugg&nbsp;&nbsp;</br>&nbsp;&nbsp;&nbsp;有密码的压缩包&nbsp;&nbsp;x -puud</h4>\n",
        "\n",
        "!unrar \"$cs\" \"$a\" \"$d\""
      ],
      "execution_count": null,
      "outputs": []
    },
    {
      "cell_type": "code",
      "metadata": {
        "id": "sNPn8C-TJ_y4",
        "colab_type": "code",
        "colab": {},
        "cellView": "both"
      },
      "source": [
        "#@markdown <h4>解压带密码的RAR压缩包<h4/>\n",
        "#@markdown <h4>点击左侧按钮，运行以下代码解压带密码RAR压缩包</h4>\n",
        "注意修改路径\n",
        "GD = \"/content/drive/My Drive/\"\n",
        "a,b = (GD+c),(GD+b)\n",
        "c = \"rar.rar\"#@param {type:\"string\"}\n",
        "#@markdown <h4>&nbsp;&nbsp;&nbsp;要解压的压缩包路径(如果是网盘根目录直接输入压缩包文件名)</h4>\n",
        "b = \"\\u89E3\\u538B\\u6D4B\\u8BD5\" #@param {type:\"string\"}\n",
        "#@markdown <h4>  &nbsp;&nbsp;&nbsp;解压后的位置路径</h4>\n",
        "!unrar x -puud \"$a\" \"$d\""
      ],
      "execution_count": null,
      "outputs": []
    },
    {
      "cell_type": "code",
      "metadata": {
        "id": "_gI5spoH5tZj",
        "colab_type": "code",
        "colab": {},
        "cellView": "form"
      },
      "source": [
        "#@markdown <h3>解压单个zip压缩包</h3>\n",
        "GD = \"/content/drive/My Drive/\"\n",
        "a,b = (GD+c),(GD+b)\n",
        "c = \"zip.zip\"#@param {type:\"string\"}\n",
        "#@markdown <h4>&nbsp;&nbsp;&nbsp;要解压的压缩包路径(如果是网盘根目录直接输入压缩包文件名)</h4>\n",
        "b = \"\\u89E3\\u538B\\u6D4B\\u8BD5\" #@param {type:\"string\"}\n",
        "#@markdown <h4>  &nbsp;&nbsp;&nbsp;解压后的位置路径</h4>\n",
        "!unzip \"$a\" -d \"$d\"\n"
      ],
      "execution_count": null,
      "outputs": []
    },
    {
      "cell_type": "markdown",
      "metadata": {
        "id": "IEsfC_S9NMJK",
        "colab_type": "text"
      },
      "source": [
        "# **解压带密码的ZIP压缩包**\n",
        "点击左侧按钮，运行以下代码解压带密码ZIP压缩包\n",
        "注意修改路径"
      ]
    },
    {
      "cell_type": "code",
      "metadata": {
        "id": "QTMIU96lNc-f",
        "colab_type": "code",
        "colab": {}
      },
      "source": [
        "GD = \"/content/drive/My Drive/\"\n",
        "a,b = (GD+c),(GD+b)\n",
        "c = \"rar.rar\"#@param {type:\"string\"}\n",
        "#@markdown <h4>&nbsp;&nbsp;&nbsp;要解压的压缩包路径(如果是网盘根目录直接输入压缩包文件名)</h4>\n",
        "b = \"\\u89E3\\u538B\\u6D4B\\u8BD5\" #@param {type:\"string\"}\n",
        "#@markdown <h4>  &nbsp;&nbsp;&nbsp;解压后的位置路径</h4>\n",
        "!unzip -Paitugg \"$a\" -d \"$d\""
      ],
      "execution_count": null,
      "outputs": []
    },
    {
      "cell_type": "markdown",
      "metadata": {
        "id": "A6GEuFQ155um",
        "colab_type": "text"
      },
      "source": [
        "# **批量解压RAR压缩包**\n",
        "点击左侧按钮，运行以下代码解压多个RAR压缩包\n",
        "注意修改路径"
      ]
    },
    {
      "cell_type": "code",
      "metadata": {
        "id": "WZ_9Oc_Y5_zO",
        "colab_type": "code",
        "colab": {}
      },
      "source": [
        "!unrar x -r \"/content/drive/My Drive/GD/Book/网络小说/精校仙侠/*.rar\" \"/content/drive/My Drive/网络小说解压\""
      ],
      "execution_count": null,
      "outputs": []
    },
    {
      "cell_type": "markdown",
      "metadata": {
        "id": "0GblICIYQISw",
        "colab_type": "text"
      },
      "source": [
        "# **批量解压ZIP压缩包**\n",
        "点击左侧按钮，运行以下代码解压多个ZIP压缩包\n",
        "注意修改路径"
      ]
    },
    {
      "cell_type": "code",
      "metadata": {
        "id": "zUlREX0eQMWu",
        "colab_type": "code",
        "colab": {}
      },
      "source": [
        "%cd \"/content/drive/My Drive/GD/zip批量解压\"\n",
        "!for file in *.zip; do dir=$(basename \"$file\" .zip); mkdir \"$dir\"; cd \"$dir\"; unzip -Paitugg ../\"$file\"; cd ..; done"
      ],
      "execution_count": null,
      "outputs": []
    },
    {
      "cell_type": "markdown",
      "metadata": {
        "id": "rr_xUZ3c1BwV",
        "colab_type": "text"
      },
      "source": [
        "# **解压7z压缩包**\n",
        "点击左侧按钮，运行以下代码解压7z压缩包\n",
        "注意修改路径"
      ]
    },
    {
      "cell_type": "code",
      "metadata": {
        "id": "-7x85unPREPv",
        "colab_type": "code",
        "colab": {}
      },
      "source": [
        "%cd \"/content/drive/Shared drives/uudme/\"\n",
        "!7z x -puud 14.7z"
      ],
      "execution_count": null,
      "outputs": []
    }
  ]
}